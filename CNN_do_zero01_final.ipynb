{
  "nbformat": 4,
  "nbformat_minor": 0,
  "metadata": {
    "colab": {
      "provenance": [],
      "gpuType": "T4",
      "include_colab_link": true
    },
    "kernelspec": {
      "name": "python3",
      "display_name": "Python 3"
    },
    "language_info": {
      "name": "python"
    },
    "accelerator": "GPU"
  },
  "cells": [
    {
      "cell_type": "markdown",
      "metadata": {
        "id": "view-in-github",
        "colab_type": "text"
      },
      "source": [
        "<a href=\"https://colab.research.google.com/github/Endrew-42/farmtech-fase6/blob/main/CNN_do_zero01_final.ipynb\" target=\"_parent\"><img src=\"https://colab.research.google.com/assets/colab-badge.svg\" alt=\"Open In Colab\"/></a>"
      ]
    },
    {
      "cell_type": "markdown",
      "source": [
        "Esta célula é responsável por configurar o ambiente inicial. Ela baixa o arquivo compactado (.zip) que contém todo o dataset de imagens (treino, validação e teste) e o descompacta em um diretório de trabalho específico (/content/arquivos), garantindo que os dados estejam prontos para serem acessados pelas etapas seguintes.\n",
        "\n",
        "Caso apareça a seguinte mensagem para você durante a execução da célula 1: \"replace /content/arquivos/colab_fase6_cap1/arquivos/teste/rotated_frame00176.png? [y]es, [n]o, [A]ll, [N]one, [r]ename:\" é porque você já baixou o arquivo ZIP e ele está tentando baixar novamente, a resposta mais segura nesse caso seria \"A\" pois ele vai substituir o arquivo zip anterior, o que é útil caso na tentativa anterior de baixar o arquivo ZIP tenha ocorrido algum problema com o download."
      ],
      "metadata": {
        "id": "W2ezs2BUrN7P"
      }
    },
    {
      "cell_type": "code",
      "source": [
        "# Célula 1: Baixar e descompactar os arquivos do zip\n",
        "!pip install gdown\n",
        "import gdown\n",
        "gdown.download('https://drive.google.com/uc?id=1IIBVb_WyhxokNdHeF3kerjOHCpL_Y8GK', '/content/colab_fase6_cap1.zip', quiet=False)\n",
        "!unzip /content/colab_fase6_cap1.zip -d /content/arquivos"
      ],
      "metadata": {
        "colab": {
          "base_uri": "https://localhost:8080/"
        },
        "id": "sYEugu47AxTj",
        "outputId": "5e794c3d-2f7b-46aa-a9a2-e01e7aee26bb",
        "collapsed": true
      },
      "execution_count": null,
      "outputs": [
        {
          "output_type": "stream",
          "name": "stdout",
          "text": [
            "Requirement already satisfied: gdown in /usr/local/lib/python3.12/dist-packages (5.2.0)\n",
            "Requirement already satisfied: beautifulsoup4 in /usr/local/lib/python3.12/dist-packages (from gdown) (4.13.5)\n",
            "Requirement already satisfied: filelock in /usr/local/lib/python3.12/dist-packages (from gdown) (3.20.0)\n",
            "Requirement already satisfied: requests[socks] in /usr/local/lib/python3.12/dist-packages (from gdown) (2.32.4)\n",
            "Requirement already satisfied: tqdm in /usr/local/lib/python3.12/dist-packages (from gdown) (4.67.1)\n",
            "Requirement already satisfied: soupsieve>1.2 in /usr/local/lib/python3.12/dist-packages (from beautifulsoup4->gdown) (2.8)\n",
            "Requirement already satisfied: typing-extensions>=4.0.0 in /usr/local/lib/python3.12/dist-packages (from beautifulsoup4->gdown) (4.15.0)\n",
            "Requirement already satisfied: charset_normalizer<4,>=2 in /usr/local/lib/python3.12/dist-packages (from requests[socks]->gdown) (3.4.3)\n",
            "Requirement already satisfied: idna<4,>=2.5 in /usr/local/lib/python3.12/dist-packages (from requests[socks]->gdown) (3.10)\n",
            "Requirement already satisfied: urllib3<3,>=1.21.1 in /usr/local/lib/python3.12/dist-packages (from requests[socks]->gdown) (2.5.0)\n",
            "Requirement already satisfied: certifi>=2017.4.17 in /usr/local/lib/python3.12/dist-packages (from requests[socks]->gdown) (2025.10.5)\n",
            "Requirement already satisfied: PySocks!=1.5.7,>=1.5.6 in /usr/local/lib/python3.12/dist-packages (from requests[socks]->gdown) (1.7.1)\n"
          ]
        },
        {
          "output_type": "stream",
          "name": "stderr",
          "text": [
            "Downloading...\n",
            "From (original): https://drive.google.com/uc?id=1IIBVb_WyhxokNdHeF3kerjOHCpL_Y8GK\n",
            "From (redirected): https://drive.google.com/uc?id=1IIBVb_WyhxokNdHeF3kerjOHCpL_Y8GK&confirm=t&uuid=c002ac56-27f3-406b-817e-447a1b06bba8\n",
            "To: /content/colab_fase6_cap1.zip\n",
            "100%|██████████| 254M/254M [00:03<00:00, 74.1MB/s]\n"
          ]
        },
        {
          "output_type": "stream",
          "name": "stdout",
          "text": [
            "Archive:  /content/colab_fase6_cap1.zip\n",
            "   creating: /content/arquivos/colab_fase6_cap1/arquivos/labels/\n",
            "  inflating: /content/arquivos/colab_fase6_cap1/arquivos/teste/rotated_frame00176.png  \n",
            "  inflating: /content/arquivos/colab_fase6_cap1/arquivos/teste/frame00116.png  \n",
            "  inflating: /content/arquivos/colab_fase6_cap1/arquivos/teste/rotated_frame00226.png  \n",
            "  inflating: /content/arquivos/colab_fase6_cap1/arquivos/teste/rotated_frame00181.png  \n",
            "  inflating: /content/arquivos/colab_fase6_cap1/arquivos/caneca_pote.yaml  \n",
            "  inflating: /content/arquivos/colab_fase6_cap1/arquivos/teste/frame00161.png  \n",
            "  inflating: /content/arquivos/colab_fase6_cap1/arquivos/imagens/val.cache  \n",
            "  inflating: /content/arquivos/colab_fase6_cap1/arquivos/teste/frame00026.png  \n",
            "  inflating: /content/arquivos/colab_fase6_cap1/arquivos/imagens/val/rotated_frame00456.txt  \n",
            "  inflating: /content/arquivos/colab_fase6_cap1/arquivos/imagens/val/frame00156.txt  \n",
            "  inflating: /content/arquivos/colab_fase6_cap1/arquivos/imagens/val/rotated_frame00531.png  \n",
            "  inflating: /content/arquivos/colab_fase6_cap1/arquivos/imagens/val/frame00066.png  \n",
            "  inflating: /content/arquivos/colab_fase6_cap1/arquivos/imagens/val/frame00131.png  \n",
            "  inflating: /content/arquivos/colab_fase6_cap1/arquivos/imagens/val/frame00131.txt  \n",
            "  inflating: /content/arquivos/colab_fase6_cap1/arquivos/imagens/val/frame00156.png  \n",
            "  inflating: /content/arquivos/colab_fase6_cap1/arquivos/imagens/treino.cache  \n",
            "  inflating: /content/arquivos/colab_fase6_cap1/arquivos/imagens/val/frame00001.png  \n",
            "  inflating: /content/arquivos/colab_fase6_cap1/arquivos/imagens/val/rotated_frame00531.txt  \n",
            "  inflating: /content/arquivos/colab_fase6_cap1/arquivos/imagens/val/rotated_frame00456.png  \n",
            "  inflating: /content/arquivos/colab_fase6_cap1/arquivos/imagens/val/rotated_frame00306.txt  \n",
            "  inflating: /content/arquivos/colab_fase6_cap1/arquivos/teste/rotated_frame00016.png  \n",
            "  inflating: /content/arquivos/colab_fase6_cap1/arquivos/imagens/treino/rotated_frame00421.txt  \n",
            "  inflating: /content/arquivos/colab_fase6_cap1/arquivos/imagens/val/rotated_frame00396.png  \n",
            "  inflating: /content/arquivos/colab_fase6_cap1/arquivos/imagens/val/frame00066.txt  \n",
            "  inflating: /content/arquivos/colab_fase6_cap1/arquivos/imagens/val/rotated_frame00306.png  \n",
            "  inflating: /content/arquivos/colab_fase6_cap1/arquivos/imagens/treino/rotated_frame00046.txt  \n",
            "  inflating: /content/arquivos/colab_fase6_cap1/arquivos/imagens/val/rotated_frame00396.txt  \n",
            "  inflating: /content/arquivos/colab_fase6_cap1/arquivos/teste/frame00481.png  \n",
            "  inflating: /content/arquivos/colab_fase6_cap1/arquivos/imagens/treino/rotated_frame00031.txt  \n",
            "  inflating: /content/arquivos/colab_fase6_cap1/arquivos/imagens/treino/rotated_frame00451.txt  \n",
            "  inflating: /content/arquivos/colab_fase6_cap1/arquivos/imagens/treino/rotated_frame00171.txt  \n",
            "  inflating: /content/arquivos/colab_fase6_cap1/arquivos/imagens/val/frame00001.txt  \n",
            "  inflating: /content/arquivos/colab_fase6_cap1/arquivos/imagens/treino/rotated_frame00256.txt  \n",
            "  inflating: /content/arquivos/colab_fase6_cap1/arquivos/imagens/treino/frame00246.txt  \n",
            "  inflating: /content/arquivos/colab_fase6_cap1/arquivos/imagens/treino/frame00216.txt  \n",
            "  inflating: /content/arquivos/colab_fase6_cap1/arquivos/imagens/treino/frame00191.txt  \n",
            "  inflating: /content/arquivos/colab_fase6_cap1/arquivos/imagens/treino/rotated_frame00151.txt  \n",
            "  inflating: /content/arquivos/colab_fase6_cap1/arquivos/imagens/treino/frame00041.txt  \n",
            "  inflating: /content/arquivos/colab_fase6_cap1/arquivos/imagens/treino/frame00411.txt  \n",
            "  inflating: /content/arquivos/colab_fase6_cap1/arquivos/imagens/treino/frame00101.txt  \n",
            "  inflating: /content/arquivos/colab_fase6_cap1/arquivos/imagens/treino/rotated_frame00391.txt  \n",
            "  inflating: /content/arquivos/colab_fase6_cap1/arquivos/imagens/treino/rotated_frame00416.txt  \n",
            "  inflating: /content/arquivos/colab_fase6_cap1/arquivos/imagens/treino/rotated_frame00221.txt  \n",
            "  inflating: /content/arquivos/colab_fase6_cap1/arquivos/imagens/treino/frame00306.txt  \n",
            "  inflating: /content/arquivos/colab_fase6_cap1/arquivos/imagens/treino/frame00236.txt  \n",
            "  inflating: /content/arquivos/colab_fase6_cap1/arquivos/imagens/treino/rotated_frame00521.txt  \n",
            "  inflating: /content/arquivos/colab_fase6_cap1/arquivos/imagens/treino/frame00126.txt  \n",
            "  inflating: /content/arquivos/colab_fase6_cap1/arquivos/imagens/treino/frame00251.txt  \n",
            "  inflating: /content/arquivos/colab_fase6_cap1/arquivos/imagens/treino/frame00386.txt  \n",
            "  inflating: /content/arquivos/colab_fase6_cap1/arquivos/imagens/treino/rotated_frame00311.txt  \n",
            "  inflating: /content/arquivos/colab_fase6_cap1/arquivos/imagens/treino/frame00296.txt  \n",
            "  inflating: /content/arquivos/colab_fase6_cap1/arquivos/imagens/treino/frame00056.txt  \n",
            "  inflating: /content/arquivos/colab_fase6_cap1/arquivos/imagens/treino/frame00261.txt  \n",
            "  inflating: /content/arquivos/colab_fase6_cap1/arquivos/imagens/treino/rotated_frame00186.txt  \n",
            "  inflating: /content/arquivos/colab_fase6_cap1/arquivos/imagens/treino/frame00291.txt  \n",
            "  inflating: /content/arquivos/colab_fase6_cap1/arquivos/imagens/treino/frame00321.txt  \n",
            "  inflating: /content/arquivos/colab_fase6_cap1/arquivos/imagens/treino/rotated_frame00261.txt  \n",
            "  inflating: /content/arquivos/colab_fase6_cap1/arquivos/imagens/treino/rotated_frame00441.txt  \n",
            "  inflating: /content/arquivos/colab_fase6_cap1/arquivos/imagens/treino/frame00241.txt  \n",
            "  inflating: /content/arquivos/colab_fase6_cap1/arquivos/imagens/treino/rotated_frame00216.txt  \n",
            "  inflating: /content/arquivos/colab_fase6_cap1/arquivos/imagens/treino/frame00476.txt  \n",
            "  inflating: /content/arquivos/colab_fase6_cap1/arquivos/imagens/treino/rotated_frame00036.txt  \n",
            "  inflating: /content/arquivos/colab_fase6_cap1/arquivos/imagens/treino/frame00146.txt  \n",
            "  inflating: /content/arquivos/colab_fase6_cap1/arquivos/imagens/treino/rotated_frame00041.txt  \n",
            "  inflating: /content/arquivos/colab_fase6_cap1/arquivos/imagens/treino/rotated_frame00096.txt  \n",
            "  inflating: /content/arquivos/colab_fase6_cap1/arquivos/imagens/treino/rotated_frame00276.txt  \n",
            "  inflating: /content/arquivos/colab_fase6_cap1/arquivos/imagens/treino/frame00351.txt  \n",
            "  inflating: /content/arquivos/colab_fase6_cap1/arquivos/imagens/treino/frame00431.txt  \n",
            "  inflating: /content/arquivos/colab_fase6_cap1/arquivos/imagens/treino/frame00186.txt  \n",
            "  inflating: /content/arquivos/colab_fase6_cap1/arquivos/imagens/treino/rotated_frame00011.txt  \n",
            "  inflating: /content/arquivos/colab_fase6_cap1/arquivos/imagens/treino/frame00311.txt  \n",
            "  inflating: /content/arquivos/colab_fase6_cap1/arquivos/imagens/treino/frame00051.txt  \n",
            "  inflating: /content/arquivos/colab_fase6_cap1/arquivos/imagens/treino/rotated_frame00126.txt  \n",
            "  inflating: /content/arquivos/colab_fase6_cap1/arquivos/imagens/treino/rotated_frame00021.txt  \n",
            "  inflating: /content/arquivos/colab_fase6_cap1/arquivos/imagens/treino/rotated_frame00536.txt  \n",
            "  inflating: /content/arquivos/colab_fase6_cap1/arquivos/imagens/treino/rotated_frame00206.txt  \n",
            "  inflating: /content/arquivos/colab_fase6_cap1/arquivos/imagens/treino/rotated_frame00231.txt  \n",
            "  inflating: /content/arquivos/colab_fase6_cap1/arquivos/imagens/treino/rotated_frame00091.txt  \n",
            "  inflating: /content/arquivos/colab_fase6_cap1/arquivos/imagens/treino/frame00341.txt  \n",
            "  inflating: /content/arquivos/colab_fase6_cap1/arquivos/imagens/treino/frame00036.txt  \n",
            "  inflating: /content/arquivos/colab_fase6_cap1/arquivos/imagens/treino/rotated_frame00006.txt  \n",
            "  inflating: /content/arquivos/colab_fase6_cap1/arquivos/imagens/treino/rotated_frame00301.txt  \n",
            "  inflating: /content/arquivos/colab_fase6_cap1/arquivos/imagens/treino/frame00181.txt  \n",
            "  inflating: /content/arquivos/colab_fase6_cap1/arquivos/imagens/treino/frame00346.txt  \n",
            "  inflating: /content/arquivos/colab_fase6_cap1/arquivos/imagens/treino/frame00401.txt  \n",
            "  inflating: /content/arquivos/colab_fase6_cap1/arquivos/imagens/treino/frame00366.txt  \n",
            "  inflating: /content/arquivos/colab_fase6_cap1/arquivos/imagens/treino/rotated_frame00061.txt  \n",
            "  inflating: /content/arquivos/colab_fase6_cap1/arquivos/imagens/treino/rotated_frame00411.txt  \n",
            "  inflating: /content/arquivos/colab_fase6_cap1/arquivos/imagens/treino/rotated_frame00466.txt  \n",
            "  inflating: /content/arquivos/colab_fase6_cap1/arquivos/imagens/treino/frame00086.txt  \n",
            "  inflating: /content/arquivos/colab_fase6_cap1/arquivos/imagens/treino/rotated_frame00401.txt  \n",
            "  inflating: /content/arquivos/colab_fase6_cap1/arquivos/imagens/treino/frame00486.txt  \n",
            "  inflating: /content/arquivos/colab_fase6_cap1/arquivos/imagens/treino/frame00361.txt  \n",
            "  inflating: /content/arquivos/colab_fase6_cap1/arquivos/imagens/treino/rotated_frame00471.txt  \n",
            "  inflating: /content/arquivos/colab_fase6_cap1/arquivos/imagens/treino/rotated_frame00136.txt  \n",
            "  inflating: /content/arquivos/colab_fase6_cap1/arquivos/imagens/treino/frame00081.txt  \n",
            "  inflating: /content/arquivos/colab_fase6_cap1/arquivos/imagens/treino/frame00226.txt  \n",
            "  inflating: /content/arquivos/colab_fase6_cap1/arquivos/imagens/treino/rotated_frame00506.txt  \n",
            "  inflating: /content/arquivos/colab_fase6_cap1/arquivos/imagens/treino/rotated_frame00436.txt  \n",
            "  inflating: /content/arquivos/colab_fase6_cap1/arquivos/imagens/treino/frame00336.txt  \n",
            "  inflating: /content/arquivos/colab_fase6_cap1/arquivos/imagens/treino/rotated_frame00286.txt  \n",
            "  inflating: /content/arquivos/colab_fase6_cap1/arquivos/imagens/treino/rotated_frame00101.txt  \n",
            "  inflating: /content/arquivos/colab_fase6_cap1/arquivos/imagens/treino/rotated_frame00481.txt  \n",
            "  inflating: /content/arquivos/colab_fase6_cap1/arquivos/imagens/treino/frame00151.txt  \n",
            "  inflating: /content/arquivos/colab_fase6_cap1/arquivos/imagens/treino/frame00231.txt  \n",
            "  inflating: /content/arquivos/colab_fase6_cap1/arquivos/imagens/treino/frame00046.txt  \n",
            "  inflating: /content/arquivos/colab_fase6_cap1/arquivos/imagens/treino/frame00011.txt  \n",
            "  inflating: /content/arquivos/colab_fase6_cap1/arquivos/imagens/treino/rotated_frame00476.txt  \n",
            "  inflating: /content/arquivos/colab_fase6_cap1/arquivos/imagens/treino/rotated_frame00496.txt  \n",
            "  inflating: /content/arquivos/colab_fase6_cap1/arquivos/imagens/treino/rotated_frame00161.txt  \n",
            "  inflating: /content/arquivos/colab_fase6_cap1/arquivos/imagens/treino/rotated_frame00321.txt  \n",
            "  inflating: /content/arquivos/colab_fase6_cap1/arquivos/imagens/treino/frame00121.txt  \n",
            "  inflating: /content/arquivos/colab_fase6_cap1/arquivos/imagens/treino/rotated_frame00326.txt  \n",
            "  inflating: /content/arquivos/colab_fase6_cap1/arquivos/imagens/treino/rotated_frame00071.txt  \n",
            "  inflating: /content/arquivos/colab_fase6_cap1/arquivos/imagens/treino/rotated_frame00341.txt  \n",
            "  inflating: /content/arquivos/colab_fase6_cap1/arquivos/imagens/treino/rotated_frame00211.txt  \n",
            "  inflating: /content/arquivos/colab_fase6_cap1/arquivos/imagens/treino/frame00171.txt  \n",
            "  inflating: /content/arquivos/colab_fase6_cap1/arquivos/imagens/treino/frame00256.txt  \n",
            "  inflating: /content/arquivos/colab_fase6_cap1/arquivos/imagens/treino/frame00326.txt  \n",
            "  inflating: /content/arquivos/colab_fase6_cap1/arquivos/imagens/treino/rotated_frame00131.txt  \n",
            "  inflating: /content/arquivos/colab_fase6_cap1/arquivos/imagens/treino/rotated_frame00346.txt  \n",
            "  inflating: /content/arquivos/colab_fase6_cap1/arquivos/imagens/treino/rotated_frame00501.txt  \n",
            "  inflating: /content/arquivos/colab_fase6_cap1/arquivos/imagens/treino/frame00301.txt  \n",
            "  inflating: /content/arquivos/colab_fase6_cap1/arquivos/imagens/treino/frame00376.txt  \n",
            "  inflating: /content/arquivos/colab_fase6_cap1/arquivos/imagens/treino/rotated_frame00081.txt  \n",
            "  inflating: /content/arquivos/colab_fase6_cap1/arquivos/imagens/treino/rotated_frame00241.txt  \n",
            "  inflating: /content/arquivos/colab_fase6_cap1/arquivos/imagens/treino/rotated_frame00246.txt  \n",
            "  inflating: /content/arquivos/colab_fase6_cap1/arquivos/imagens/treino/rotated_frame00296.txt  \n",
            "  inflating: /content/arquivos/colab_fase6_cap1/arquivos/imagens/treino/frame00201.txt  \n",
            "  inflating: /content/arquivos/colab_fase6_cap1/arquivos/imagens/treino/frame00021.txt  \n",
            "  inflating: /content/arquivos/colab_fase6_cap1/arquivos/imagens/treino/frame00466.txt  \n",
            "  inflating: /content/arquivos/colab_fase6_cap1/arquivos/imagens/treino/rotated_frame00526.txt  \n",
            "  inflating: /content/arquivos/colab_fase6_cap1/arquivos/imagens/treino/rotated_frame00201.txt  \n",
            "  inflating: /content/arquivos/colab_fase6_cap1/arquivos/imagens/treino/frame00091.txt  \n",
            "  inflating: /content/arquivos/colab_fase6_cap1/arquivos/imagens/treino/frame00071.txt  \n",
            "  inflating: /content/arquivos/colab_fase6_cap1/arquivos/imagens/treino/frame00286.txt  \n",
            "  inflating: /content/arquivos/colab_fase6_cap1/arquivos/imagens/treino/rotated_frame00146.txt  \n",
            "  inflating: /content/arquivos/colab_fase6_cap1/arquivos/imagens/treino/rotated_frame00111.txt  \n",
            "  inflating: /content/arquivos/colab_fase6_cap1/arquivos/imagens/treino/frame00396.txt  \n",
            "  inflating: /content/arquivos/colab_fase6_cap1/arquivos/imagens/treino/frame00016.txt  \n",
            "  inflating: /content/arquivos/colab_fase6_cap1/arquivos/imagens/treino/rotated_frame00156.txt  \n",
            "  inflating: /content/arquivos/colab_fase6_cap1/arquivos/imagens/treino/frame00451.txt  \n",
            "  inflating: /content/arquivos/colab_fase6_cap1/arquivos/imagens/treino/rotated_frame00001.txt  \n",
            "  inflating: /content/arquivos/colab_fase6_cap1/arquivos/imagens/treino/frame00031.txt  \n",
            "  inflating: /content/arquivos/colab_fase6_cap1/arquivos/imagens/treino/frame00446.txt  \n",
            "  inflating: /content/arquivos/colab_fase6_cap1/arquivos/imagens/treino/frame00271.txt  \n",
            "  inflating: /content/arquivos/colab_fase6_cap1/arquivos/imagens/treino/frame00316.txt  \n",
            "  inflating: /content/arquivos/colab_fase6_cap1/arquivos/imagens/treino/frame00456.txt  \n",
            "  inflating: /content/arquivos/colab_fase6_cap1/arquivos/imagens/treino/frame00281.txt  \n",
            "  inflating: /content/arquivos/colab_fase6_cap1/arquivos/imagens/treino/rotated_frame00056.txt  \n",
            "  inflating: /content/arquivos/colab_fase6_cap1/arquivos/imagens/treino/rotated_frame00366.txt  \n",
            "  inflating: /content/arquivos/colab_fase6_cap1/arquivos/imagens/treino/rotated_frame00271.txt  \n",
            "  inflating: /content/arquivos/colab_fase6_cap1/arquivos/imagens/treino/frame00356.txt  \n",
            "  inflating: /content/arquivos/colab_fase6_cap1/arquivos/imagens/treino/frame00406.txt  \n",
            "  inflating: /content/arquivos/colab_fase6_cap1/arquivos/imagens/treino/rotated_frame00336.txt  \n",
            "  inflating: /content/arquivos/colab_fase6_cap1/arquivos/imagens/treino/rotated_frame00331.txt  \n",
            "  inflating: /content/arquivos/colab_fase6_cap1/arquivos/imagens/treino/rotated_frame00116.txt  \n",
            "  inflating: /content/arquivos/colab_fase6_cap1/arquivos/imagens/treino/frame00266.txt  \n",
            "  inflating: /content/arquivos/colab_fase6_cap1/arquivos/imagens/treino/rotated_frame00431.txt  \n",
            "  inflating: /content/arquivos/colab_fase6_cap1/arquivos/imagens/treino/frame00491.txt  \n",
            "  inflating: /content/arquivos/colab_fase6_cap1/arquivos/imagens/treino/frame00461.txt  \n",
            "  inflating: /content/arquivos/colab_fase6_cap1/arquivos/imagens/treino/frame00436.txt  \n",
            "  inflating: /content/arquivos/colab_fase6_cap1/arquivos/imagens/treino/frame00096.txt  \n",
            "  inflating: /content/arquivos/colab_fase6_cap1/arquivos/imagens/treino/frame00211.txt  \n",
            "  inflating: /content/arquivos/colab_fase6_cap1/arquivos/imagens/treino/rotated_frame00446.txt  \n",
            "  inflating: /content/arquivos/colab_fase6_cap1/arquivos/imagens/treino/frame00141.txt  \n",
            "  inflating: /content/arquivos/colab_fase6_cap1/arquivos/imagens/treino/rotated_frame00236.txt  \n",
            "  inflating: /content/arquivos/colab_fase6_cap1/arquivos/imagens/treino/frame00206.txt  \n",
            "  inflating: /content/arquivos/colab_fase6_cap1/arquivos/imagens/treino/rotated_frame00066.txt  \n",
            "  inflating: /content/arquivos/colab_fase6_cap1/arquivos/imagens/treino/frame00076.txt  \n",
            "  inflating: /content/arquivos/colab_fase6_cap1/arquivos/imagens/treino/rotated_frame00491.txt  \n",
            "  inflating: /content/arquivos/colab_fase6_cap1/arquivos/imagens/treino/rotated_frame00266.txt  \n",
            "  inflating: /content/arquivos/colab_fase6_cap1/arquivos/imagens/treino/rotated_frame00381.txt  \n",
            "  inflating: /content/arquivos/colab_fase6_cap1/arquivos/imagens/treino/frame00136.txt  \n",
            "  inflating: /content/arquivos/colab_fase6_cap1/arquivos/imagens/treino/rotated_frame00486.txt  \n",
            "  inflating: /content/arquivos/colab_fase6_cap1/arquivos/imagens/treino/frame00471.txt  \n",
            "  inflating: /content/arquivos/colab_fase6_cap1/arquivos/imagens/treino/frame00416.txt  \n",
            "  inflating: /content/arquivos/colab_fase6_cap1/arquivos/imagens/treino/rotated_frame00251.txt  \n",
            "  inflating: /content/arquivos/colab_fase6_cap1/arquivos/imagens/treino/rotated_frame00386.txt  \n",
            "  inflating: /content/arquivos/colab_fase6_cap1/arquivos/imagens/treino/rotated_frame00426.txt  \n",
            "  inflating: /content/arquivos/colab_fase6_cap1/arquivos/imagens/treino/frame00111.txt  \n",
            "  inflating: /content/arquivos/colab_fase6_cap1/arquivos/imagens/treino/rotated_frame00086.txt  \n",
            "  inflating: /content/arquivos/colab_fase6_cap1/arquivos/imagens/treino/frame00106.txt  \n",
            "  inflating: /content/arquivos/colab_fase6_cap1/arquivos/imagens/treino/rotated_frame00516.txt  \n",
            "  inflating: /content/arquivos/colab_fase6_cap1/arquivos/imagens/treino/frame00371.txt  \n",
            "  inflating: /content/arquivos/colab_fase6_cap1/arquivos/imagens/treino/rotated_frame00356.txt  \n",
            "  inflating: /content/arquivos/colab_fase6_cap1/arquivos/imagens/treino/frame00221.txt  \n",
            "  inflating: /content/arquivos/colab_fase6_cap1/arquivos/imagens/treino/rotated_frame00461.txt  \n",
            "  inflating: /content/arquivos/colab_fase6_cap1/arquivos/imagens/treino/rotated_frame00051.txt  \n",
            "  inflating: /content/arquivos/colab_fase6_cap1/arquivos/imagens/treino/frame00061.txt  \n",
            "  inflating: /content/arquivos/colab_fase6_cap1/arquivos/imagens/treino/frame00176.txt  \n",
            "  inflating: /content/arquivos/colab_fase6_cap1/arquivos/imagens/treino/frame00426.txt  \n",
            "  inflating: /content/arquivos/colab_fase6_cap1/arquivos/imagens/treino/rotated_frame00196.txt  \n",
            "  inflating: /content/arquivos/colab_fase6_cap1/arquivos/imagens/treino/rotated_frame00121.txt  \n",
            "  inflating: /content/arquivos/colab_fase6_cap1/arquivos/imagens/treino/frame00166.txt  \n",
            "  inflating: /content/arquivos/colab_fase6_cap1/arquivos/imagens/treino/rotated_frame00316.txt  \n",
            "  inflating: /content/arquivos/colab_fase6_cap1/arquivos/imagens/treino/rotated_frame00406.txt  \n",
            "  inflating: /content/arquivos/colab_fase6_cap1/arquivos/imagens/treino/rotated_frame00371.txt  \n",
            "  inflating: /content/arquivos/colab_fase6_cap1/arquivos/imagens/treino/frame00441.txt  \n",
            "  inflating: /content/arquivos/colab_fase6_cap1/arquivos/imagens/treino/frame00391.txt  \n",
            "  inflating: /content/arquivos/colab_fase6_cap1/arquivos/imagens/treino/frame00381.txt  \n",
            "  inflating: /content/arquivos/colab_fase6_cap1/arquivos/imagens/treino/rotated_frame00376.txt  \n",
            "  inflating: /content/arquivos/colab_fase6_cap1/arquivos/imagens/treino/rotated_frame00281.txt  \n",
            "  inflating: /content/arquivos/colab_fase6_cap1/arquivos/imagens/treino/frame00006.txt  \n",
            "  inflating: /content/arquivos/colab_fase6_cap1/arquivos/imagens/treino/frame00196.txt  \n",
            "  inflating: /content/arquivos/colab_fase6_cap1/arquivos/imagens/treino/rotated_frame00026.txt  \n",
            "  inflating: /content/arquivos/colab_fase6_cap1/arquivos/imagens/treino/rotated_frame00361.txt  \n",
            "  inflating: /content/arquivos/colab_fase6_cap1/arquivos/imagens/treino/frame00221.png  \n",
            "  inflating: /content/arquivos/colab_fase6_cap1/arquivos/imagens/treino/rotated_frame00166.txt  \n",
            "  inflating: /content/arquivos/colab_fase6_cap1/arquivos/imagens/treino/rotated_frame00351.txt  \n",
            "  inflating: /content/arquivos/colab_fase6_cap1/arquivos/imagens/treino/frame00421.txt  \n",
            "  inflating: /content/arquivos/colab_fase6_cap1/arquivos/imagens/treino/rotated_frame00291.txt  \n",
            "  inflating: /content/arquivos/colab_fase6_cap1/arquivos/imagens/treino/rotated_frame00141.txt  \n",
            "  inflating: /content/arquivos/colab_fase6_cap1/arquivos/imagens/treino/frame00281.png  \n",
            "  inflating: /content/arquivos/colab_fase6_cap1/arquivos/imagens/treino/frame00486.png  \n",
            "  inflating: /content/arquivos/colab_fase6_cap1/arquivos/imagens/treino/frame00331.txt  \n",
            "  inflating: /content/arquivos/colab_fase6_cap1/arquivos/imagens/treino/frame00191.png  \n",
            "  inflating: /content/arquivos/colab_fase6_cap1/arquivos/imagens/treino/rotated_frame00191.txt  \n",
            "  inflating: /content/arquivos/colab_fase6_cap1/arquivos/imagens/treino/rotated_frame00076.txt  \n",
            "  inflating: /content/arquivos/colab_fase6_cap1/arquivos/imagens/treino/frame00326.png  \n",
            "  inflating: /content/arquivos/colab_fase6_cap1/arquivos/imagens/treino/frame00291.png  \n",
            "  inflating: /content/arquivos/colab_fase6_cap1/arquivos/imagens/treino/frame00246.png  \n",
            "  inflating: /content/arquivos/colab_fase6_cap1/arquivos/imagens/treino/frame00231.png  \n",
            "  inflating: /content/arquivos/colab_fase6_cap1/arquivos/imagens/treino/frame00271.png  \n",
            "  inflating: /content/arquivos/colab_fase6_cap1/arquivos/imagens/treino/frame00166.png  \n",
            "  inflating: /content/arquivos/colab_fase6_cap1/arquivos/imagens/treino/frame00461.png  \n",
            "  inflating: /content/arquivos/colab_fase6_cap1/arquivos/imagens/treino/frame00006.png  \n",
            "  inflating: /content/arquivos/colab_fase6_cap1/arquivos/imagens/treino/frame00171.png  \n",
            "  inflating: /content/arquivos/colab_fase6_cap1/arquivos/imagens/treino/frame00076.png  \n",
            "  inflating: /content/arquivos/colab_fase6_cap1/arquivos/imagens/treino/frame00316.png  \n",
            "  inflating: /content/arquivos/colab_fase6_cap1/arquivos/imagens/treino/frame00371.png  \n",
            "  inflating: /content/arquivos/colab_fase6_cap1/arquivos/imagens/treino/frame00401.png  \n",
            "  inflating: /content/arquivos/colab_fase6_cap1/arquivos/imagens/treino/frame00046.png  \n",
            "  inflating: /content/arquivos/colab_fase6_cap1/arquivos/imagens/treino/frame00366.png  \n",
            "  inflating: /content/arquivos/colab_fase6_cap1/arquivos/imagens/treino/frame00141.png  \n",
            "  inflating: /content/arquivos/colab_fase6_cap1/arquivos/imagens/treino/rotated_frame00511.txt  \n",
            "  inflating: /content/arquivos/colab_fase6_cap1/arquivos/imagens/treino/frame00101.png  \n",
            "  inflating: /content/arquivos/colab_fase6_cap1/arquivos/imagens/treino/frame00346.png  \n",
            "  inflating: /content/arquivos/colab_fase6_cap1/arquivos/imagens/treino/frame00041.png  \n",
            "  inflating: /content/arquivos/colab_fase6_cap1/arquivos/imagens/treino/frame00251.png  \n",
            "  inflating: /content/arquivos/colab_fase6_cap1/arquivos/imagens/treino/frame00031.png  \n",
            "  inflating: /content/arquivos/colab_fase6_cap1/arquivos/imagens/treino/frame00036.png  \n",
            "  inflating: /content/arquivos/colab_fase6_cap1/arquivos/imagens/treino/frame00146.png  \n",
            "  inflating: /content/arquivos/colab_fase6_cap1/arquivos/imagens/treino/frame00021.png  \n",
            "  inflating: /content/arquivos/colab_fase6_cap1/arquivos/imagens/treino/frame00096.png  \n",
            "  inflating: /content/arquivos/colab_fase6_cap1/arquivos/imagens/treino/frame00386.png  \n",
            "  inflating: /content/arquivos/colab_fase6_cap1/arquivos/imagens/treino/frame00421.png  \n",
            "  inflating: /content/arquivos/colab_fase6_cap1/arquivos/imagens/treino/frame00126.png  \n",
            "  inflating: /content/arquivos/colab_fase6_cap1/arquivos/imagens/treino/frame00111.png  \n",
            "  inflating: /content/arquivos/colab_fase6_cap1/arquivos/imagens/treino/frame00336.png  \n",
            "  inflating: /content/arquivos/colab_fase6_cap1/arquivos/imagens/treino/frame00266.png  \n",
            "  inflating: /content/arquivos/colab_fase6_cap1/arquivos/imagens/treino/frame00306.png  \n",
            "  inflating: /content/arquivos/colab_fase6_cap1/arquivos/imagens/treino/frame00431.png  \n",
            "  inflating: /content/arquivos/colab_fase6_cap1/arquivos/imagens/treino/frame00086.png  \n",
            "  inflating: /content/arquivos/colab_fase6_cap1/arquivos/imagens/treino/frame00471.png  \n",
            "  inflating: /content/arquivos/colab_fase6_cap1/arquivos/imagens/treino/frame00081.png  \n",
            "  inflating: /content/arquivos/colab_fase6_cap1/arquivos/imagens/treino/frame00121.png  \n",
            "  inflating: /content/arquivos/colab_fase6_cap1/arquivos/imagens/treino/frame00106.png  \n",
            "  inflating: /content/arquivos/colab_fase6_cap1/arquivos/imagens/treino/frame00396.png  \n",
            "  inflating: /content/arquivos/colab_fase6_cap1/arquivos/imagens/treino/frame00151.png  \n",
            "  inflating: /content/arquivos/colab_fase6_cap1/arquivos/imagens/treino/frame00226.png  \n",
            "  inflating: /content/arquivos/colab_fase6_cap1/arquivos/imagens/treino/frame00451.png  \n",
            "  inflating: /content/arquivos/colab_fase6_cap1/arquivos/imagens/treino/frame00091.png  \n",
            "  inflating: /content/arquivos/colab_fase6_cap1/arquivos/imagens/treino/frame00011.png  \n",
            "  inflating: /content/arquivos/colab_fase6_cap1/arquivos/imagens/treino/frame00136.png  \n",
            "  inflating: /content/arquivos/colab_fase6_cap1/arquivos/imagens/treino/frame00241.png  \n",
            "  inflating: /content/arquivos/colab_fase6_cap1/arquivos/imagens/treino/frame00061.png  \n",
            "  inflating: /content/arquivos/colab_fase6_cap1/arquivos/imagens/treino/frame00296.png  \n",
            "  inflating: /content/arquivos/colab_fase6_cap1/arquivos/imagens/treino/frame00051.png  \n",
            "  inflating: /content/arquivos/colab_fase6_cap1/arquivos/imagens/treino/frame00056.png  \n",
            "  inflating: /content/arquivos/colab_fase6_cap1/arquivos/imagens/treino/frame00361.png  \n",
            "  inflating: /content/arquivos/colab_fase6_cap1/arquivos/imagens/treino/rotated_frame00446.png  \n",
            "  inflating: /content/arquivos/colab_fase6_cap1/arquivos/imagens/treino/frame00321.png  \n",
            "  inflating: /content/arquivos/colab_fase6_cap1/arquivos/imagens/treino/frame00341.png  \n",
            "  inflating: /content/arquivos/colab_fase6_cap1/arquivos/imagens/treino/rotated_frame00106.txt  \n",
            "  inflating: /content/arquivos/colab_fase6_cap1/arquivos/imagens/treino/frame00071.png  \n",
            "  inflating: /content/arquivos/colab_fase6_cap1/arquivos/imagens/treino/frame00416.png  \n",
            "  inflating: /content/arquivos/colab_fase6_cap1/arquivos/imagens/treino/frame00301.png  \n",
            "  inflating: /content/arquivos/colab_fase6_cap1/arquivos/imagens/treino/frame00211.png  \n",
            "  inflating: /content/arquivos/colab_fase6_cap1/arquivos/imagens/treino/frame00181.png  \n",
            "  inflating: /content/arquivos/colab_fase6_cap1/arquivos/imagens/treino/frame00331.png  \n",
            "  inflating: /content/arquivos/colab_fase6_cap1/arquivos/imagens/treino/frame00441.png  \n",
            "  inflating: /content/arquivos/colab_fase6_cap1/arquivos/imagens/treino/frame00016.png  \n",
            "  inflating: /content/arquivos/colab_fase6_cap1/arquivos/imagens/treino/rotated_frame00291.png  \n",
            "  inflating: /content/arquivos/colab_fase6_cap1/arquivos/imagens/treino/frame00476.png  \n",
            "  inflating: /content/arquivos/colab_fase6_cap1/arquivos/imagens/treino/rotated_frame00466.png  \n",
            "  inflating: /content/arquivos/colab_fase6_cap1/arquivos/imagens/treino/frame00256.png  \n",
            "  inflating: /content/arquivos/colab_fase6_cap1/arquivos/imagens/treino/frame00206.png  \n",
            "  inflating: /content/arquivos/colab_fase6_cap1/arquivos/imagens/treino/rotated_frame00436.png  \n",
            "  inflating: /content/arquivos/colab_fase6_cap1/arquivos/imagens/treino/frame00411.png  \n",
            "  inflating: /content/arquivos/colab_fase6_cap1/arquivos/imagens/treino/frame00381.png  \n",
            "  inflating: /content/arquivos/colab_fase6_cap1/arquivos/imagens/treino/rotated_frame00236.png  \n",
            "  inflating: /content/arquivos/colab_fase6_cap1/arquivos/imagens/treino/frame00446.png  \n",
            "  inflating: /content/arquivos/colab_fase6_cap1/arquivos/imagens/treino/rotated_frame00326.png  \n",
            "  inflating: /content/arquivos/colab_fase6_cap1/arquivos/imagens/treino/frame00351.png  \n",
            "  inflating: /content/arquivos/colab_fase6_cap1/arquivos/imagens/treino/frame00391.png  \n",
            "  inflating: /content/arquivos/colab_fase6_cap1/arquivos/imagens/treino/rotated_frame00526.png  \n",
            "  inflating: /content/arquivos/colab_fase6_cap1/arquivos/imagens/treino/frame00376.png  \n",
            "  inflating: /content/arquivos/colab_fase6_cap1/arquivos/imagens/treino/rotated_frame00371.png  \n",
            "  inflating: /content/arquivos/colab_fase6_cap1/arquivos/imagens/treino/frame00236.png  \n",
            "  inflating: /content/arquivos/colab_fase6_cap1/arquivos/imagens/treino/rotated_frame00211.png  \n",
            "  inflating: /content/arquivos/colab_fase6_cap1/arquivos/imagens/treino/rotated_frame00246.png  \n",
            "  inflating: /content/arquivos/colab_fase6_cap1/arquivos/imagens/treino/rotated_frame00201.png  \n",
            "  inflating: /content/arquivos/colab_fase6_cap1/arquivos/imagens/treino/frame00216.png  \n",
            "  inflating: /content/arquivos/colab_fase6_cap1/arquivos/imagens/treino/frame00196.png  \n",
            "  inflating: /content/arquivos/colab_fase6_cap1/arquivos/imagens/treino/frame00261.png  \n",
            "  inflating: /content/arquivos/colab_fase6_cap1/arquivos/imagens/treino/rotated_frame00416.png  \n",
            "  inflating: /content/arquivos/colab_fase6_cap1/arquivos/imagens/treino/rotated_frame00516.png  \n",
            "  inflating: /content/arquivos/colab_fase6_cap1/arquivos/imagens/treino/rotated_frame00361.png  \n",
            "  inflating: /content/arquivos/colab_fase6_cap1/arquivos/imagens/treino/rotated_frame00221.png  \n",
            "  inflating: /content/arquivos/colab_fase6_cap1/arquivos/imagens/treino/frame00186.png  \n",
            "  inflating: /content/arquivos/colab_fase6_cap1/arquivos/imagens/treino/frame00456.png  \n",
            "  inflating: /content/arquivos/colab_fase6_cap1/arquivos/imagens/treino/frame00176.png  \n",
            "  inflating: /content/arquivos/colab_fase6_cap1/arquivos/imagens/treino/frame00491.png  \n",
            "  inflating: /content/arquivos/colab_fase6_cap1/arquivos/imagens/treino/frame00286.png  \n",
            "  inflating: /content/arquivos/colab_fase6_cap1/arquivos/imagens/treino/rotated_frame00276.png  \n",
            "  inflating: /content/arquivos/colab_fase6_cap1/arquivos/imagens/treino/rotated_frame00381.png  \n",
            "  inflating: /content/arquivos/colab_fase6_cap1/arquivos/imagens/treino/frame00201.png  \n",
            "  inflating: /content/arquivos/colab_fase6_cap1/arquivos/imagens/treino/frame00356.png  \n",
            "  inflating: /content/arquivos/colab_fase6_cap1/arquivos/imagens/treino/rotated_frame00301.png  \n",
            "  inflating: /content/arquivos/colab_fase6_cap1/arquivos/imagens/treino/rotated_frame00501.png  \n",
            "  inflating: /content/arquivos/colab_fase6_cap1/arquivos/imagens/treino/rotated_frame00256.png  \n",
            "  inflating: /content/arquivos/colab_fase6_cap1/arquivos/imagens/treino/frame00466.png  \n",
            "  inflating: /content/arquivos/colab_fase6_cap1/arquivos/imagens/treino/frame00426.png  \n",
            "  inflating: /content/arquivos/colab_fase6_cap1/arquivos/imagens/treino/rotated_frame00491.png  \n",
            "  inflating: /content/arquivos/colab_fase6_cap1/arquivos/imagens/treino/rotated_frame00386.png  \n",
            "  inflating: /content/arquivos/colab_fase6_cap1/arquivos/imagens/treino/rotated_frame00196.png  \n",
            "  inflating: /content/arquivos/colab_fase6_cap1/arquivos/imagens/treino/rotated_frame00506.png  \n",
            "  inflating: /content/arquivos/colab_fase6_cap1/arquivos/imagens/treino/rotated_frame00336.png  \n",
            "  inflating: /content/arquivos/colab_fase6_cap1/arquivos/imagens/treino/frame00436.png  \n",
            "  inflating: /content/arquivos/colab_fase6_cap1/arquivos/imagens/treino/rotated_frame00241.png  \n",
            "  inflating: /content/arquivos/colab_fase6_cap1/arquivos/imagens/treino/rotated_frame00451.png  \n",
            "  inflating: /content/arquivos/colab_fase6_cap1/arquivos/imagens/treino/rotated_frame00496.png  \n",
            "  inflating: /content/arquivos/colab_fase6_cap1/arquivos/imagens/treino/rotated_frame00296.png  \n",
            "  inflating: /content/arquivos/colab_fase6_cap1/arquivos/imagens/treino/rotated_frame00321.png  \n",
            "  inflating: /content/arquivos/colab_fase6_cap1/arquivos/imagens/treino/frame00406.png  \n",
            "  inflating: /content/arquivos/colab_fase6_cap1/arquivos/imagens/treino/frame00311.png  \n",
            "  inflating: /content/arquivos/colab_fase6_cap1/arquivos/imagens/treino/rotated_frame00311.png  \n",
            "  inflating: /content/arquivos/colab_fase6_cap1/arquivos/imagens/treino/rotated_frame00316.png  \n",
            "  inflating: /content/arquivos/colab_fase6_cap1/arquivos/imagens/treino/rotated_frame00286.png  \n",
            "  inflating: /content/arquivos/colab_fase6_cap1/arquivos/imagens/treino/rotated_frame00331.png  \n",
            "  inflating: /content/arquivos/colab_fase6_cap1/arquivos/imagens/treino/rotated_frame00471.png  \n",
            "  inflating: /content/arquivos/colab_fase6_cap1/arquivos/imagens/treino/rotated_frame00156.png  \n",
            "  inflating: /content/arquivos/colab_fase6_cap1/arquivos/imagens/treino/rotated_frame00356.png  \n",
            "  inflating: /content/arquivos/colab_fase6_cap1/arquivos/imagens/treino/rotated_frame00391.png  \n",
            "  inflating: /content/arquivos/colab_fase6_cap1/arquivos/imagens/treino/rotated_frame00521.png  \n",
            "  inflating: /content/arquivos/colab_fase6_cap1/arquivos/imagens/treino/rotated_frame00366.png  \n",
            "  inflating: /content/arquivos/colab_fase6_cap1/arquivos/imagens/treino/rotated_frame00146.png  \n",
            "  inflating: /content/arquivos/colab_fase6_cap1/arquivos/imagens/treino/rotated_frame00266.png  \n",
            "  inflating: /content/arquivos/colab_fase6_cap1/arquivos/imagens/treino/rotated_frame00431.png  \n",
            "  inflating: /content/arquivos/colab_fase6_cap1/arquivos/imagens/treino/rotated_frame00216.png  \n",
            "  inflating: /content/arquivos/colab_fase6_cap1/arquivos/imagens/treino/rotated_frame00346.png  \n",
            "  inflating: /content/arquivos/colab_fase6_cap1/arquivos/imagens/treino/rotated_frame00376.png  \n",
            "  inflating: /content/arquivos/colab_fase6_cap1/arquivos/imagens/treino/rotated_frame00166.png  \n",
            "  inflating: /content/arquivos/colab_fase6_cap1/arquivos/imagens/treino/rotated_frame00231.png  \n",
            "  inflating: /content/arquivos/colab_fase6_cap1/arquivos/imagens/treino/rotated_frame00191.png  \n",
            "  inflating: /content/arquivos/colab_fase6_cap1/arquivos/imagens/treino/rotated_frame00481.png  \n",
            "  inflating: /content/arquivos/colab_fase6_cap1/arquivos/imagens/treino/rotated_frame00421.png  \n",
            "  inflating: /content/arquivos/colab_fase6_cap1/arquivos/imagens/treino/rotated_frame00401.png  \n",
            "  inflating: /content/arquivos/colab_fase6_cap1/arquivos/imagens/treino/rotated_frame00341.png  \n",
            "  inflating: /content/arquivos/colab_fase6_cap1/arquivos/imagens/treino/rotated_frame00186.png  \n",
            "  inflating: /content/arquivos/colab_fase6_cap1/arquivos/imagens/treino/rotated_frame00281.png  \n",
            "  inflating: /content/arquivos/colab_fase6_cap1/arquivos/imagens/treino/rotated_frame00261.png  \n",
            "  inflating: /content/arquivos/colab_fase6_cap1/arquivos/imagens/treino/rotated_frame00151.png  \n",
            "  inflating: /content/arquivos/colab_fase6_cap1/arquivos/imagens/treino/rotated_frame00411.png  \n",
            "  inflating: /content/arquivos/colab_fase6_cap1/arquivos/imagens/treino/rotated_frame00351.png  \n",
            "  inflating: /content/arquivos/colab_fase6_cap1/arquivos/imagens/treino/rotated_frame00271.png  \n",
            "  inflating: /content/arquivos/colab_fase6_cap1/arquivos/imagens/treino/rotated_frame00441.png  \n",
            "  inflating: /content/arquivos/colab_fase6_cap1/arquivos/imagens/treino/rotated_frame00171.png  \n",
            "  inflating: /content/arquivos/colab_fase6_cap1/arquivos/imagens/treino/rotated_frame00536.png  \n",
            "  inflating: /content/arquivos/colab_fase6_cap1/arquivos/imagens/treino/rotated_frame00461.png  \n",
            "  inflating: /content/arquivos/colab_fase6_cap1/arquivos/imagens/treino/rotated_frame00206.png  \n",
            "  inflating: /content/arquivos/colab_fase6_cap1/arquivos/imagens/treino/rotated_frame00486.png  \n",
            "  inflating: /content/arquivos/colab_fase6_cap1/arquivos/imagens/treino/rotated_frame00511.png  \n",
            "  inflating: /content/arquivos/colab_fase6_cap1/arquivos/imagens/treino/rotated_frame00406.png  \n",
            "  inflating: /content/arquivos/colab_fase6_cap1/arquivos/imagens/treino/rotated_frame00426.png  \n",
            "  inflating: /content/arquivos/colab_fase6_cap1/arquivos/imagens/treino/rotated_frame00111.png  \n",
            "  inflating: /content/arquivos/colab_fase6_cap1/arquivos/imagens/treino/rotated_frame00066.png  \n",
            "  inflating: /content/arquivos/colab_fase6_cap1/arquivos/imagens/treino/rotated_frame00161.png  \n",
            "  inflating: /content/arquivos/colab_fase6_cap1/arquivos/imagens/treino/rotated_frame00036.png  \n",
            "  inflating: /content/arquivos/colab_fase6_cap1/arquivos/imagens/treino/rotated_frame00476.png  \n",
            "  inflating: /content/arquivos/colab_fase6_cap1/arquivos/imagens/treino/rotated_frame00026.png  \n",
            "  inflating: /content/arquivos/colab_fase6_cap1/arquivos/imagens/treino/rotated_frame00126.png  \n",
            "  inflating: /content/arquivos/colab_fase6_cap1/arquivos/imagens/treino/rotated_frame00251.png  \n",
            "  inflating: /content/arquivos/colab_fase6_cap1/arquivos/imagens/treino/rotated_frame00046.png  \n",
            "  inflating: /content/arquivos/colab_fase6_cap1/arquivos/imagens/treino/rotated_frame00091.png  \n",
            "  inflating: /content/arquivos/colab_fase6_cap1/arquivos/imagens/treino/rotated_frame00121.png  \n",
            "  inflating: /content/arquivos/colab_fase6_cap1/arquivos/imagens/treino/rotated_frame00056.png  \n",
            "  inflating: /content/arquivos/colab_fase6_cap1/arquivos/imagens/treino/rotated_frame00096.png  \n",
            "  inflating: /content/arquivos/colab_fase6_cap1/arquivos/imagens/treino/rotated_frame00086.png  \n",
            "  inflating: /content/arquivos/colab_fase6_cap1/arquivos/imagens/treino/rotated_frame00031.png  \n",
            "  inflating: /content/arquivos/colab_fase6_cap1/arquivos/imagens/treino/rotated_frame00101.png  \n",
            "  inflating: /content/arquivos/colab_fase6_cap1/arquivos/imagens/treino/rotated_frame00076.png  \n",
            "  inflating: /content/arquivos/colab_fase6_cap1/arquivos/imagens/treino/rotated_frame00136.png  \n",
            "  inflating: /content/arquivos/colab_fase6_cap1/arquivos/imagens/treino/rotated_frame00131.png  \n",
            "  inflating: /content/arquivos/colab_fase6_cap1/arquivos/imagens/treino/rotated_frame00141.png  \n",
            "  inflating: /content/arquivos/colab_fase6_cap1/arquivos/imagens/treino/rotated_frame00106.png  \n",
            "  inflating: /content/arquivos/colab_fase6_cap1/arquivos/imagens/treino/rotated_frame00011.png  \n",
            "  inflating: /content/arquivos/colab_fase6_cap1/arquivos/imagens/treino/rotated_frame00071.png  \n",
            "  inflating: /content/arquivos/colab_fase6_cap1/arquivos/imagens/treino/rotated_frame00116.png  \n",
            "  inflating: /content/arquivos/colab_fase6_cap1/arquivos/imagens/treino/rotated_frame00061.png  \n",
            "  inflating: /content/arquivos/colab_fase6_cap1/arquivos/imagens/treino/rotated_frame00021.png  \n",
            "  inflating: /content/arquivos/colab_fase6_cap1/arquivos/imagens/treino/rotated_frame00006.png  \n",
            "  inflating: /content/arquivos/colab_fase6_cap1/arquivos/imagens/treino/rotated_frame00051.png  \n",
            "  inflating: /content/arquivos/colab_fase6_cap1/arquivos/imagens/treino/rotated_frame00041.png  \n",
            "  inflating: /content/arquivos/colab_fase6_cap1/arquivos/imagens/treino/rotated_frame00081.png  \n",
            "  inflating: /content/arquivos/colab_fase6_cap1/arquivos/imagens/treino/rotated_frame00001.png  \n"
          ]
        }
      ]
    },
    {
      "cell_type": "markdown",
      "source": [
        "Garante que as imagens de teste estejam separadas em subpastas de classe (caneca e pote), um formato obrigatório para que o carregador de dados do TensorFlow/Keras consiga inferir corretamente os rótulos de cada imagem."
      ],
      "metadata": {
        "id": "mzo84p7UtFEZ"
      }
    },
    {
      "cell_type": "code",
      "source": [
        "# Célula: Mover imagens para subpastas Caneca e Pote\n",
        "import os\n",
        "import shutil\n",
        "\n",
        "# Diretórios\n",
        "source_dir = '/content/arquivos/colab_fase6_cap1/arquivos/teste/'\n",
        "caneca_dir = os.path.join(source_dir, 'caneca')\n",
        "pote_dir = os.path.join(source_dir, 'pote')\n",
        "\n",
        "# Criar subpastas se não existirem\n",
        "os.makedirs(caneca_dir, exist_ok=True)\n",
        "os.makedirs(pote_dir, exist_ok=True)\n",
        "\n",
        "# Mover imagens\n",
        "for filename in os.listdir(source_dir):\n",
        "    if filename.endswith('.png'):\n",
        "        if filename.startswith('frame'):\n",
        "            shutil.move(os.path.join(source_dir, filename), os.path.join(caneca_dir, filename))\n",
        "        elif filename.startswith('rotated'):\n",
        "            shutil.move(os.path.join(source_dir, filename), os.path.join(pote_dir, filename))\n",
        "\n",
        "# Verificar resultado\n",
        "print(\"Conteúdo de teste após movimentação:\")\n",
        "!ls -R /content/arquivos/colab_fase6_cap1/arquivos/teste/"
      ],
      "metadata": {
        "colab": {
          "base_uri": "https://localhost:8080/"
        },
        "id": "GSUFRRpcFB_3",
        "outputId": "cd607237-17e9-40a5-fc6a-7e26ae6aa120",
        "collapsed": true
      },
      "execution_count": null,
      "outputs": [
        {
          "output_type": "stream",
          "name": "stdout",
          "text": [
            "Conteúdo de teste após movimentação:\n",
            "/content/arquivos/colab_fase6_cap1/arquivos/teste/:\n",
            "caneca\tpote\n",
            "\n",
            "/content/arquivos/colab_fase6_cap1/arquivos/teste/caneca:\n",
            "frame00026.png\tframe00116.png\tframe00161.png\tframe00481.png\n",
            "\n",
            "/content/arquivos/colab_fase6_cap1/arquivos/teste/pote:\n",
            "rotated_frame00016.png\trotated_frame00181.png\n",
            "rotated_frame00176.png\trotated_frame00226.png\n"
          ]
        }
      ]
    },
    {
      "cell_type": "markdown",
      "source": [
        "Esta célula realiza a conversão essencial de um formato de dataset (YOLO, com imagens e rótulos separados) para o formato exigido pelo Keras para Classificação: imagens organizadas em subpastas de classe (Caneca e Pote)."
      ],
      "metadata": {
        "id": "_nvbbbX6sNbz"
      }
    },
    {
      "cell_type": "code",
      "source": [
        "# Célula 2: Preparar dataset\n",
        "from tensorflow.keras.preprocessing.image import ImageDataGenerator\n",
        "import os\n",
        "import shutil\n",
        "\n",
        "# Diretórios base\n",
        "base_dir = '/content/arquivos/colab_fase6_cap1/arquivos/'\n",
        "train_dir = os.path.join(base_dir, 'imagens/treino')\n",
        "val_dir = os.path.join(base_dir, 'imagens/val')\n",
        "test_dir = os.path.join(base_dir, 'teste')\n",
        "\n",
        "# Criar estrutura de pastas por classe\n",
        "for dir_path in [train_dir, val_dir, test_dir]:\n",
        "    for class_name in ['Caneca', 'Pote']:\n",
        "        os.makedirs(os.path.join(dir_path, class_name), exist_ok=True)\n",
        "\n",
        "# Função para organizar imagens com base nos rótulos .txt\n",
        "def organize_images(source_dir, target_dir):\n",
        "    for img_file in os.listdir(source_dir):\n",
        "        if img_file.endswith('.png'):\n",
        "            txt_file = img_file.replace('.png', '.txt')\n",
        "            txt_path = os.path.join(source_dir, txt_file)\n",
        "            if os.path.exists(txt_path):\n",
        "                with open(txt_path, 'r') as f:\n",
        "                    label = int(f.readline().split()[0])  # 0 = Caneca, 1 = Pote\n",
        "                    class_name = 'Caneca' if label == 0 else 'Pote'\n",
        "                    shutil.copy(os.path.join(source_dir, img_file), os.path.join(target_dir, class_name, img_file))\n",
        "\n",
        "# Organizar dados\n",
        "organize_images(train_dir, train_dir)\n",
        "organize_images(val_dir, val_dir)\n",
        "organize_images(test_dir, test_dir)\n",
        "\n",
        "# Geradores de dados\n",
        "datagen = ImageDataGenerator(rescale=1./255, validation_split=0.1)  # 10% para validação interna, se necessário\n",
        "train_gen = datagen.flow_from_directory(train_dir, target_size=(150, 150), batch_size=32, class_mode='binary')\n",
        "val_gen = datagen.flow_from_directory(val_dir, target_size=(150, 150), batch_size=32, class_mode='binary')\n",
        "test_gen = datagen.flow_from_directory(test_dir, target_size=(150, 150), batch_size=32, class_mode='binary', shuffle=False)\n",
        "\n",
        "print(\"Dataset preparado com sucesso!\")"
      ],
      "metadata": {
        "colab": {
          "base_uri": "https://localhost:8080/"
        },
        "id": "pF4gWejVB4hk",
        "outputId": "cee5adb4-3f0f-4555-bc82-70de1bd173c8"
      },
      "execution_count": null,
      "outputs": [
        {
          "output_type": "stream",
          "name": "stdout",
          "text": [
            "Found 190 images belonging to 2 classes.\n",
            "Found 8 images belonging to 2 classes.\n",
            "Found 8 images belonging to 4 classes.\n",
            "Dataset preparado com sucesso!\n"
          ]
        }
      ]
    },
    {
      "cell_type": "markdown",
      "source": [
        "Esta célula constrói a arquitetura completa da Rede Neural Convolucional (CNN) do zero e a prepara para o treinamento, definindo como ela aprenderá e como seu desempenho será medido."
      ],
      "metadata": {
        "id": "lD2gzF5ssVqi"
      }
    },
    {
      "cell_type": "code",
      "source": [
        "# Célula 3: Definir e compilar modelo\n",
        "from tensorflow.keras import Sequential, layers\n",
        "\n",
        "model = Sequential([\n",
        "    layers.Conv2D(16, (3, 3), activation='relu', input_shape=(150, 150, 3)),\n",
        "    layers.MaxPooling2D(2, 2),\n",
        "    layers.Conv2D(32, (3, 3), activation='relu'),\n",
        "    layers.MaxPooling2D(2, 2),\n",
        "    layers.Conv2D(64, (3, 3), activation='relu'),\n",
        "    layers.MaxPooling2D(2, 2),\n",
        "    layers.Flatten(),\n",
        "    layers.Dense(128, activation='relu'),\n",
        "    layers.Dense(1, activation='sigmoid')  # 2 classes (Caneca e Pote)\n",
        "])\n",
        "model.compile(optimizer='adam', loss='binary_crossentropy', metrics=['accuracy'])\n",
        "model.summary()"
      ],
      "metadata": {
        "colab": {
          "base_uri": "https://localhost:8080/",
          "height": 498
        },
        "id": "fwO66pNBCPBE",
        "outputId": "033d0b99-2065-4bfc-87e1-6d78e88275e8"
      },
      "execution_count": null,
      "outputs": [
        {
          "output_type": "stream",
          "name": "stderr",
          "text": [
            "/usr/local/lib/python3.12/dist-packages/keras/src/layers/convolutional/base_conv.py:113: UserWarning: Do not pass an `input_shape`/`input_dim` argument to a layer. When using Sequential models, prefer using an `Input(shape)` object as the first layer in the model instead.\n",
            "  super().__init__(activity_regularizer=activity_regularizer, **kwargs)\n"
          ]
        },
        {
          "output_type": "display_data",
          "data": {
            "text/plain": [
              "\u001b[1mModel: \"sequential\"\u001b[0m\n"
            ],
            "text/html": [
              "<pre style=\"white-space:pre;overflow-x:auto;line-height:normal;font-family:Menlo,'DejaVu Sans Mono',consolas,'Courier New',monospace\"><span style=\"font-weight: bold\">Model: \"sequential\"</span>\n",
              "</pre>\n"
            ]
          },
          "metadata": {}
        },
        {
          "output_type": "display_data",
          "data": {
            "text/plain": [
              "┏━━━━━━━━━━━━━━━━━━━━━━━━━━━━━━━━━┳━━━━━━━━━━━━━━━━━━━━━━━━┳━━━━━━━━━━━━━━━┓\n",
              "┃\u001b[1m \u001b[0m\u001b[1mLayer (type)                   \u001b[0m\u001b[1m \u001b[0m┃\u001b[1m \u001b[0m\u001b[1mOutput Shape          \u001b[0m\u001b[1m \u001b[0m┃\u001b[1m \u001b[0m\u001b[1m      Param #\u001b[0m\u001b[1m \u001b[0m┃\n",
              "┡━━━━━━━━━━━━━━━━━━━━━━━━━━━━━━━━━╇━━━━━━━━━━━━━━━━━━━━━━━━╇━━━━━━━━━━━━━━━┩\n",
              "│ conv2d (\u001b[38;5;33mConv2D\u001b[0m)                 │ (\u001b[38;5;45mNone\u001b[0m, \u001b[38;5;34m148\u001b[0m, \u001b[38;5;34m148\u001b[0m, \u001b[38;5;34m16\u001b[0m)   │           \u001b[38;5;34m448\u001b[0m │\n",
              "├─────────────────────────────────┼────────────────────────┼───────────────┤\n",
              "│ max_pooling2d (\u001b[38;5;33mMaxPooling2D\u001b[0m)    │ (\u001b[38;5;45mNone\u001b[0m, \u001b[38;5;34m74\u001b[0m, \u001b[38;5;34m74\u001b[0m, \u001b[38;5;34m16\u001b[0m)     │             \u001b[38;5;34m0\u001b[0m │\n",
              "├─────────────────────────────────┼────────────────────────┼───────────────┤\n",
              "│ conv2d_1 (\u001b[38;5;33mConv2D\u001b[0m)               │ (\u001b[38;5;45mNone\u001b[0m, \u001b[38;5;34m72\u001b[0m, \u001b[38;5;34m72\u001b[0m, \u001b[38;5;34m32\u001b[0m)     │         \u001b[38;5;34m4,640\u001b[0m │\n",
              "├─────────────────────────────────┼────────────────────────┼───────────────┤\n",
              "│ max_pooling2d_1 (\u001b[38;5;33mMaxPooling2D\u001b[0m)  │ (\u001b[38;5;45mNone\u001b[0m, \u001b[38;5;34m36\u001b[0m, \u001b[38;5;34m36\u001b[0m, \u001b[38;5;34m32\u001b[0m)     │             \u001b[38;5;34m0\u001b[0m │\n",
              "├─────────────────────────────────┼────────────────────────┼───────────────┤\n",
              "│ conv2d_2 (\u001b[38;5;33mConv2D\u001b[0m)               │ (\u001b[38;5;45mNone\u001b[0m, \u001b[38;5;34m34\u001b[0m, \u001b[38;5;34m34\u001b[0m, \u001b[38;5;34m64\u001b[0m)     │        \u001b[38;5;34m18,496\u001b[0m │\n",
              "├─────────────────────────────────┼────────────────────────┼───────────────┤\n",
              "│ max_pooling2d_2 (\u001b[38;5;33mMaxPooling2D\u001b[0m)  │ (\u001b[38;5;45mNone\u001b[0m, \u001b[38;5;34m17\u001b[0m, \u001b[38;5;34m17\u001b[0m, \u001b[38;5;34m64\u001b[0m)     │             \u001b[38;5;34m0\u001b[0m │\n",
              "├─────────────────────────────────┼────────────────────────┼───────────────┤\n",
              "│ flatten (\u001b[38;5;33mFlatten\u001b[0m)               │ (\u001b[38;5;45mNone\u001b[0m, \u001b[38;5;34m18496\u001b[0m)          │             \u001b[38;5;34m0\u001b[0m │\n",
              "├─────────────────────────────────┼────────────────────────┼───────────────┤\n",
              "│ dense (\u001b[38;5;33mDense\u001b[0m)                   │ (\u001b[38;5;45mNone\u001b[0m, \u001b[38;5;34m128\u001b[0m)            │     \u001b[38;5;34m2,367,616\u001b[0m │\n",
              "├─────────────────────────────────┼────────────────────────┼───────────────┤\n",
              "│ dense_1 (\u001b[38;5;33mDense\u001b[0m)                 │ (\u001b[38;5;45mNone\u001b[0m, \u001b[38;5;34m1\u001b[0m)              │           \u001b[38;5;34m129\u001b[0m │\n",
              "└─────────────────────────────────┴────────────────────────┴───────────────┘\n"
            ],
            "text/html": [
              "<pre style=\"white-space:pre;overflow-x:auto;line-height:normal;font-family:Menlo,'DejaVu Sans Mono',consolas,'Courier New',monospace\">┏━━━━━━━━━━━━━━━━━━━━━━━━━━━━━━━━━┳━━━━━━━━━━━━━━━━━━━━━━━━┳━━━━━━━━━━━━━━━┓\n",
              "┃<span style=\"font-weight: bold\"> Layer (type)                    </span>┃<span style=\"font-weight: bold\"> Output Shape           </span>┃<span style=\"font-weight: bold\">       Param # </span>┃\n",
              "┡━━━━━━━━━━━━━━━━━━━━━━━━━━━━━━━━━╇━━━━━━━━━━━━━━━━━━━━━━━━╇━━━━━━━━━━━━━━━┩\n",
              "│ conv2d (<span style=\"color: #0087ff; text-decoration-color: #0087ff\">Conv2D</span>)                 │ (<span style=\"color: #00d7ff; text-decoration-color: #00d7ff\">None</span>, <span style=\"color: #00af00; text-decoration-color: #00af00\">148</span>, <span style=\"color: #00af00; text-decoration-color: #00af00\">148</span>, <span style=\"color: #00af00; text-decoration-color: #00af00\">16</span>)   │           <span style=\"color: #00af00; text-decoration-color: #00af00\">448</span> │\n",
              "├─────────────────────────────────┼────────────────────────┼───────────────┤\n",
              "│ max_pooling2d (<span style=\"color: #0087ff; text-decoration-color: #0087ff\">MaxPooling2D</span>)    │ (<span style=\"color: #00d7ff; text-decoration-color: #00d7ff\">None</span>, <span style=\"color: #00af00; text-decoration-color: #00af00\">74</span>, <span style=\"color: #00af00; text-decoration-color: #00af00\">74</span>, <span style=\"color: #00af00; text-decoration-color: #00af00\">16</span>)     │             <span style=\"color: #00af00; text-decoration-color: #00af00\">0</span> │\n",
              "├─────────────────────────────────┼────────────────────────┼───────────────┤\n",
              "│ conv2d_1 (<span style=\"color: #0087ff; text-decoration-color: #0087ff\">Conv2D</span>)               │ (<span style=\"color: #00d7ff; text-decoration-color: #00d7ff\">None</span>, <span style=\"color: #00af00; text-decoration-color: #00af00\">72</span>, <span style=\"color: #00af00; text-decoration-color: #00af00\">72</span>, <span style=\"color: #00af00; text-decoration-color: #00af00\">32</span>)     │         <span style=\"color: #00af00; text-decoration-color: #00af00\">4,640</span> │\n",
              "├─────────────────────────────────┼────────────────────────┼───────────────┤\n",
              "│ max_pooling2d_1 (<span style=\"color: #0087ff; text-decoration-color: #0087ff\">MaxPooling2D</span>)  │ (<span style=\"color: #00d7ff; text-decoration-color: #00d7ff\">None</span>, <span style=\"color: #00af00; text-decoration-color: #00af00\">36</span>, <span style=\"color: #00af00; text-decoration-color: #00af00\">36</span>, <span style=\"color: #00af00; text-decoration-color: #00af00\">32</span>)     │             <span style=\"color: #00af00; text-decoration-color: #00af00\">0</span> │\n",
              "├─────────────────────────────────┼────────────────────────┼───────────────┤\n",
              "│ conv2d_2 (<span style=\"color: #0087ff; text-decoration-color: #0087ff\">Conv2D</span>)               │ (<span style=\"color: #00d7ff; text-decoration-color: #00d7ff\">None</span>, <span style=\"color: #00af00; text-decoration-color: #00af00\">34</span>, <span style=\"color: #00af00; text-decoration-color: #00af00\">34</span>, <span style=\"color: #00af00; text-decoration-color: #00af00\">64</span>)     │        <span style=\"color: #00af00; text-decoration-color: #00af00\">18,496</span> │\n",
              "├─────────────────────────────────┼────────────────────────┼───────────────┤\n",
              "│ max_pooling2d_2 (<span style=\"color: #0087ff; text-decoration-color: #0087ff\">MaxPooling2D</span>)  │ (<span style=\"color: #00d7ff; text-decoration-color: #00d7ff\">None</span>, <span style=\"color: #00af00; text-decoration-color: #00af00\">17</span>, <span style=\"color: #00af00; text-decoration-color: #00af00\">17</span>, <span style=\"color: #00af00; text-decoration-color: #00af00\">64</span>)     │             <span style=\"color: #00af00; text-decoration-color: #00af00\">0</span> │\n",
              "├─────────────────────────────────┼────────────────────────┼───────────────┤\n",
              "│ flatten (<span style=\"color: #0087ff; text-decoration-color: #0087ff\">Flatten</span>)               │ (<span style=\"color: #00d7ff; text-decoration-color: #00d7ff\">None</span>, <span style=\"color: #00af00; text-decoration-color: #00af00\">18496</span>)          │             <span style=\"color: #00af00; text-decoration-color: #00af00\">0</span> │\n",
              "├─────────────────────────────────┼────────────────────────┼───────────────┤\n",
              "│ dense (<span style=\"color: #0087ff; text-decoration-color: #0087ff\">Dense</span>)                   │ (<span style=\"color: #00d7ff; text-decoration-color: #00d7ff\">None</span>, <span style=\"color: #00af00; text-decoration-color: #00af00\">128</span>)            │     <span style=\"color: #00af00; text-decoration-color: #00af00\">2,367,616</span> │\n",
              "├─────────────────────────────────┼────────────────────────┼───────────────┤\n",
              "│ dense_1 (<span style=\"color: #0087ff; text-decoration-color: #0087ff\">Dense</span>)                 │ (<span style=\"color: #00d7ff; text-decoration-color: #00d7ff\">None</span>, <span style=\"color: #00af00; text-decoration-color: #00af00\">1</span>)              │           <span style=\"color: #00af00; text-decoration-color: #00af00\">129</span> │\n",
              "└─────────────────────────────────┴────────────────────────┴───────────────┘\n",
              "</pre>\n"
            ]
          },
          "metadata": {}
        },
        {
          "output_type": "display_data",
          "data": {
            "text/plain": [
              "\u001b[1m Total params: \u001b[0m\u001b[38;5;34m2,391,329\u001b[0m (9.12 MB)\n"
            ],
            "text/html": [
              "<pre style=\"white-space:pre;overflow-x:auto;line-height:normal;font-family:Menlo,'DejaVu Sans Mono',consolas,'Courier New',monospace\"><span style=\"font-weight: bold\"> Total params: </span><span style=\"color: #00af00; text-decoration-color: #00af00\">2,391,329</span> (9.12 MB)\n",
              "</pre>\n"
            ]
          },
          "metadata": {}
        },
        {
          "output_type": "display_data",
          "data": {
            "text/plain": [
              "\u001b[1m Trainable params: \u001b[0m\u001b[38;5;34m2,391,329\u001b[0m (9.12 MB)\n"
            ],
            "text/html": [
              "<pre style=\"white-space:pre;overflow-x:auto;line-height:normal;font-family:Menlo,'DejaVu Sans Mono',consolas,'Courier New',monospace\"><span style=\"font-weight: bold\"> Trainable params: </span><span style=\"color: #00af00; text-decoration-color: #00af00\">2,391,329</span> (9.12 MB)\n",
              "</pre>\n"
            ]
          },
          "metadata": {}
        },
        {
          "output_type": "display_data",
          "data": {
            "text/plain": [
              "\u001b[1m Non-trainable params: \u001b[0m\u001b[38;5;34m0\u001b[0m (0.00 B)\n"
            ],
            "text/html": [
              "<pre style=\"white-space:pre;overflow-x:auto;line-height:normal;font-family:Menlo,'DejaVu Sans Mono',consolas,'Courier New',monospace\"><span style=\"font-weight: bold\"> Non-trainable params: </span><span style=\"color: #00af00; text-decoration-color: #00af00\">0</span> (0.00 B)\n",
              "</pre>\n"
            ]
          },
          "metadata": {}
        }
      ]
    },
    {
      "cell_type": "markdown",
      "source": [
        "Esta célula inicia o processo de aprendizado da CNN (model.fit) e utiliza o mecanismo Early Stopping para controlar a duração do treinamento, garantindo que o modelo pare de treinar assim que o desempenho parar de melhorar na validação, prevenindo o overfitting e otimizando o tempo."
      ],
      "metadata": {
        "id": "5GFaFN15sesj"
      }
    },
    {
      "cell_type": "code",
      "source": [
        "# Célula 4: Treinar modelo\n",
        "from tensorflow.keras.callbacks import EarlyStopping\n",
        "import time\n",
        "\n",
        "es = EarlyStopping(monitor='val_accuracy', patience=5, restore_best_weights=True)\n",
        "start_time = time.time()\n",
        "history = model.fit(train_gen, epochs=2, validation_data=val_gen, callbacks=[es])\n",
        "train_time = time.time() - start_time\n",
        "print(f'Tempo de treinamento: {train_time:.2f} segundos')"
      ],
      "metadata": {
        "colab": {
          "base_uri": "https://localhost:8080/"
        },
        "id": "AxQyN8kzCW3D",
        "outputId": "a4172479-61eb-42be-9568-cfa6defa5582"
      },
      "execution_count": null,
      "outputs": [
        {
          "output_type": "stream",
          "name": "stderr",
          "text": [
            "/usr/local/lib/python3.12/dist-packages/keras/src/trainers/data_adapters/py_dataset_adapter.py:121: UserWarning: Your `PyDataset` class should call `super().__init__(**kwargs)` in its constructor. `**kwargs` can include `workers`, `use_multiprocessing`, `max_queue_size`. Do not pass these arguments to `fit()`, as they will be ignored.\n",
            "  self._warn_if_super_not_called()\n"
          ]
        },
        {
          "output_type": "stream",
          "name": "stdout",
          "text": [
            "Epoch 1/2\n",
            "\u001b[1m6/6\u001b[0m \u001b[32m━━━━━━━━━━━━━━━━━━━━\u001b[0m\u001b[37m\u001b[0m \u001b[1m15s\u001b[0m 2s/step - accuracy: 0.5393 - loss: 0.8669 - val_accuracy: 1.0000 - val_loss: 0.5085\n",
            "Epoch 2/2\n",
            "\u001b[1m6/6\u001b[0m \u001b[32m━━━━━━━━━━━━━━━━━━━━\u001b[0m\u001b[37m\u001b[0m \u001b[1m11s\u001b[0m 2s/step - accuracy: 0.9540 - loss: 0.4324 - val_accuracy: 1.0000 - val_loss: 0.0958\n",
            "Tempo de treinamento: 28.96 segundos\n"
          ]
        }
      ]
    },
    {
      "cell_type": "markdown",
      "source": [
        "Esta célula realiza a etapa final do processo de classificação: avaliar o desempenho real do modelo no conjunto de Teste e diagnosticar seus erros através da visualização da Matriz de Confusão."
      ],
      "metadata": {
        "id": "DDHlZBAzskv6"
      }
    },
    {
      "cell_type": "code",
      "source": [
        "print(\"Gerando previsões no conjunto de teste...\")\n",
        "predictions = model.predict(test_gen)\n",
        "\n",
        "# Converter probabilidades em classes\n",
        "y_pred_classes = (predictions > 0.5).astype(int).ravel()\n",
        "\n",
        "# Rótulos verdadeiros\n",
        "y_true = test_gen.labels\n",
        "\n",
        "# Matriz de confusão\n",
        "from sklearn.metrics import confusion_matrix\n",
        "import seaborn as sns\n",
        "import matplotlib.pyplot as plt\n",
        "import numpy as np\n",
        "\n",
        "cm = confusion_matrix(y_true, y_pred_classes)\n",
        "class_names = list(test_gen.class_indices.keys())\n",
        "\n",
        "plt.figure(figsize=(8, 6))\n",
        "sns.heatmap(cm, annot=True, fmt='d', cmap='Blues',\n",
        "            xticklabels=class_names, yticklabels=class_names)\n",
        "plt.title('Matriz de Confusão (CNN do Zero)')\n",
        "plt.ylabel('Rótulo Verdadeiro')\n",
        "plt.xlabel('Rótulo Predito')\n",
        "plt.show()\n"
      ],
      "metadata": {
        "colab": {
          "base_uri": "https://localhost:8080/",
          "height": 600
        },
        "id": "K50Tx2CWMoRx",
        "outputId": "4438414d-648b-478e-aea9-cce272b5a824"
      },
      "execution_count": null,
      "outputs": [
        {
          "output_type": "stream",
          "name": "stdout",
          "text": [
            "Gerando previsões no conjunto de teste...\n",
            "\u001b[1m1/1\u001b[0m \u001b[32m━━━━━━━━━━━━━━━━━━━━\u001b[0m\u001b[37m\u001b[0m \u001b[1m1s\u001b[0m 610ms/step\n"
          ]
        },
        {
          "output_type": "display_data",
          "data": {
            "text/plain": [
              "<Figure size 800x600 with 2 Axes>"
            ],
            "image/png": "[encoded data removed]"
          },
          "metadata": {}
        }
      ]
    }
  ]
}